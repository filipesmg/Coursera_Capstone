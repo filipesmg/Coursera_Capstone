{
    "nbformat_minor": 1, 
    "cells": [
        {
            "source": "# Final Capstone Project  \n## The Battle of the Neighborhoods", 
            "cell_type": "markdown", 
            "metadata": {
                "collapsed": true
            }
        }, 
        {
            "source": "### Abstract", 
            "cell_type": "markdown", 
            "metadata": {}
        }, 
        {
            "source": "_In this project, we will compare different cities in a given list.\nThe cities will be clustered using the k-means algorithm into different clusters.\nThe program is set to be general, so it may be used to aid in any decision making related to going to a new city.\nThe application created by this project helps any person going through this common procedure.\nEven though this project only gets information from the Foursquare API to categorize the different cities, it can easily be generalized to add new features in the future._", 
            "cell_type": "markdown", 
            "metadata": {}
        }, 
        {
            "source": "## Table of contents\n* [Introduction](#Introduction)\n* [Data](#Data)\n* [Methodology](#Methodology)\n* [Analysis](#Analysis)\n* [Results and Discussion](#Results)\n* [Conclusion](#Conclusion)", 
            "cell_type": "markdown", 
            "metadata": {}
        }, 
        {
            "source": "## 1 - Introduction <a name=\"Introduction\"></a>", 
            "cell_type": "markdown", 
            "metadata": {}
        }, 
        {
            "source": "<!-- where you discuss the business problem and who would be interested in this project. -->\nMany times someone needs to go to a city - either for a temporary visit or a permanent move -, a choice between different places is possible.\nHowever, this decision is not easy as it involves many factors: size of the city, available restaurants and recreational places, prices and many others not always related to the place itself.\nThese situations usually require a reasonable amount of research and analysis, and there are many available tools that can help in different phases of this process.\n<a href=\"https://www.wikipedia.com\">Wikipedia</a>, <a href=\"https://www.google.com/flights\">Google Flights</a>, <a href=\"https://www.booking.com\">Booking.com</a>, <a href=\"https://maps.google.com/\">Google Maps</a> and <a href=\"https://www.foursquare.com/\">Foursquare</a> are examples of instruments that are used to get familiar with a city, obtain forms and prices on how to get there, and the places available for staying and entertainment.\n\nIn all of these tools, the users need to analyze each option by themselves and then, after withdrawing weaker candidates or strengthening another one with the obtained information, make a verdict.\nOften, one still feels insecure about the choice made.\nIn this sense, a tool that automatically groups cities in a given list, returning useful information about each group certainly assist the procedure.\nSuch application can be used with unknown cities in an iterative way to reduce the possible alternatives, or also to include known cities as a reference.\n\nWith this comparison, we may answer questions such as:\n- Is a big city with many restaurants more equal to a small city with many restaurants, or a big city with more parks?\n- Which city is more like Dublin: Cologne or Amsterdam?\n- Is Shanghai, Tokyo or Johannesburg more different than S\u00e3o Paulo?\n\nIn Chapter 2, we discuss the data that will be used.\nChapter 3 is devoted to explain the methods used in this work.\nThe analysis and build up of the functions is done in Chapter 4.\nThese functions are then used in Chapter 5 to obtain results for different groups of cities.\nFinally, in Chapter 6 we summarize our findinds and discuss possible ways to expand this work.", 
            "cell_type": "markdown", 
            "metadata": {}
        }, 
        {
            "source": "## 2 - Data <a name=\"Data\"></a>", 
            "cell_type": "markdown", 
            "metadata": {}
        }, 
        {
            "source": "<!-- where you describe the data that will be used to solve the problem and the source of the data. -->\nTo compare the different cities, we will obtain an extensive list of venues using the Foursquare API.\nThe categories of the venues - restaurant, park, stadium, etc. - will be used to cluster the cities in different groups, which will be displayed on a map and the final _character_ of each city will be printed out.\nThe total number of venues fetched from the API will also be used, and can be seen as a measure of the city size.\nOther types of data may be added later, to make the comparison more complete.", 
            "cell_type": "markdown", 
            "metadata": {}
        }, 
        {
            "source": "## 3 - Methodology <a name=\"Methodology\"></a>", 
            "cell_type": "markdown", 
            "metadata": {}
        }, 
        {
            "source": "<!-- which represents the main component of the report where you discuss and describe any exploratory data analysis that you did, any inferential statistical testing that you performed, if any, and what machine learnings were used and why. -->\nOur goal is to compare different cities. \nWith this intent, we are going to use K-Means clustering algorithm, which labels the cities in a chosen number of labels.\nSince the final result may depend on the initial choice of the centroids, we chose to initialize the method with 10 different initial configurations.\nThe number of clusters will be chosen depending on the number of cities in the list.\nThis method provides an initial idea of which cities are more similar or distinct.\nTo quantify the distinction between the cities, we calculate the distance matrix using the Euclidean distance from the `scipy` package.\nThis provides a numerical quantity that is used to distinguish either common or uncommon places.\nWe also create a `Folium` map to display the resulting clustering.\n\nThe features to be used on the methods above are the categories of the venues that will be fetched from the Foursquare API.\nOn top of that, we will use the property 'distance' of the venues provided by Foursquare.\nHowever, one must be very careful when trying to define quantities from the distances of the venues. \nIn this project, we initially defined features such as: the total distance of venues (summing up all the distances of the venues), the maximum distance (obtained from the fetched venue that is located further from the location but still inside the city). \nThose quantities were intented to give an idea of the size of the city. \nNevertheless, since the fecthing process does not acquire all the venues equally, the resulting values did not reflect reality: small cities like J\u00fclich had larger values than Amsterdan or New York.\nTo avoid outlier values of distances, the median was also tried - but without success.\n\nFinally, we have then defined the quantity _density_, which is obtained from the number of venues inside a given radius (in this case, 200km).\nEven then, the _density_ value must carefully considered for two reasons: some cities does not have all the venues registered in the database and the geography of the place may hinder large density of venues even in large cities (as happens, for example, in Rio de Janeiro).\nFor this reason, an optional input was added to use the density or not when clustering the cities (use_dentity=True or False).\n\nSince the numbers obtained for the features built upon the average of venues categories are small compared to the density one, we need to use feature scaling.\nThis not only avoids overestimating the importante of the density feature, but is also useful for future extensions that may be included.\n\nThe clustering, distance matrix and map is returned by a single function that takes as an input a list of addresses, the number of clusters (default value is 3) and the option use_density. If the later is chosen to be True, the marker size is calculated with the value of the density. Separate functions for each stage are also provided.", 
            "cell_type": "markdown", 
            "metadata": {}
        }, 
        {
            "source": "## 4 - Analysis <a name=\"Analysis\"></a>", 
            "cell_type": "markdown", 
            "metadata": {}
        }, 
        {
            "source": "We first import the libraries required for the analysis:", 
            "cell_type": "markdown", 
            "metadata": {}
        }, 
        {
            "execution_count": 25, 
            "cell_type": "code", 
            "metadata": {
                "scrolled": true
            }, 
            "outputs": [], 
            "source": "# Numerical library\nimport numpy as np \n\n# Dataframe library\nimport pandas as pd \n\n# To obtain latitude and longitude values for a given addresses\n#!conda install -c conda-forge geopy --yes # uncomment this line if you haven't completed the Foursquare API lab\nfrom geopy.geocoders import Nominatim\n\n# library to handle JSON files\nimport json \n\n# library to handle requests to the API\nimport requests "
        }, 
        {
            "source": "And define the sentitive data for the Foursquare API:", 
            "cell_type": "markdown", 
            "metadata": {}
        }, 
        {
            "execution_count": 26, 
            "cell_type": "code", 
            "metadata": {}, 
            "outputs": [], 
            "source": "# The code was removed by Watson Studio for sharing."
        }, 
        {
            "source": "### Generic Functions", 
            "cell_type": "markdown", 
            "metadata": {}
        }, 
        {
            "source": "To make a tool that may be used to answer different types of questions regarding city comparisons, it is convenient to build generic functions.", 
            "cell_type": "markdown", 
            "metadata": {}
        }, 
        {
            "source": "* Function to get latitude and longitude from an address as an input:", 
            "cell_type": "markdown", 
            "metadata": {}
        }, 
        {
            "execution_count": 27, 
            "cell_type": "code", 
            "metadata": {}, 
            "outputs": [], 
            "source": "def get_latitude_longitude(address):\n    geolocator = Nominatim(user_agent=\"city_explorer\")\n    location = geolocator.geocode(address)\n    latitude = location.latitude\n    longitude = location.longitude\n    return [latitude,longitude]"
        }, 
        {
            "source": "* Function to build a DataFrame with the address and it's geographical coordinates (Latitude and Longitude):", 
            "cell_type": "markdown", 
            "metadata": {}
        }, 
        {
            "execution_count": 28, 
            "cell_type": "code", 
            "metadata": {}, 
            "outputs": [], 
            "source": "def build_latitude_longitude_df(addresses):\n    latitude_longitude = []\n    for ind,address in enumerate(addresses):\n        latitude_longitude.append( get_latitude_longitude(address) )\n        # print('The geograpical coordinates of {} are {}, {}.'.format(address, latitude_longitude[ind][0], latitude_longitude[ind][1]))\n\n    # Creating a dataframe object\n    df = pd.DataFrame({'Address':addresses,'Latitude':np.array(latitude_longitude)[:,0],'Longitude':np.array(latitude_longitude)[:,1]})\n    return df"
        }, 
        {
            "source": "* Function that fetches Venues of different cities:", 
            "cell_type": "markdown", 
            "metadata": {}
        }, 
        {
            "execution_count": 29, 
            "cell_type": "code", 
            "metadata": {}, 
            "outputs": [], 
            "source": "def getNearbyVenues(names, latitudes, longitudes, radius=10000, LIMIT=500):\n    \n    venues_list=[]\n    for name, lat, lng in zip(names, latitudes, longitudes):\n            \n        # create the API request URL\n        url = 'https://api.foursquare.com/v2/venues/search?&client_id={}&client_secret={}&v={}&ll={},{}&intent=browse&radius={}&limit={}'.format(\n            CLIENT_ID, \n            CLIENT_SECRET, \n            VERSION, \n            lat, \n            lng, \n            radius, \n            LIMIT)\n            \n        # make the GET request\n        results = requests.get(url).json()['response']['venues']\n\n        # Check if list is empty\n        if(len(results) == 0):\n            print('City {} returned 0 venues by Foursquare.'.format(name))\n            continue\n        \n        # Checking first 10 results for possible alternate names for the city (e.g., for cities written in a different language)\n        alt_names = set([name])\n        for v in results[0:10]:\n            try:\n                city = v['location']['city']\n                alt_names.add(v['location']['city'])\n            except:\n                #print (\"city not found in {}\".format(v))\n                pass\n        # print('Alternate names: {}'.format(alt_names))\n\n        # Return only relevant information for each nearby venue:\n\n        for v in results:\n            # Avoid venues with empty categories\n            try:\n                category = v['categories'][0]['name']\n            except:\n#                 print (\"category not found in {}\".format(v))\n                continue\n            \n            \n            # Filtering venues outside of the city:\n            try:\n                city = v['location']['city']\n            except:\n                city = None\n#                 print (\"city not found in {}\".format(v))\n#                 categories_list = v['venue']['location']['city']  row['venue.categories']\n            if (city not in alt_names):\n#                 print('Venue in city {} instead of {}.'.format(city, name))\n                continue\n\n            venues_list.append([(\n                name, \n                lat, \n                lng, \n                v['name'], \n                v['location']['lat'], \n                v['location']['lng'],\n                v['location']['distance'],\n                v['categories'][0]['name'])])\n#         print('For neighborhood {}, {} venues were returned by Foursquare.'.format(name,len(results)))\n\n    nearby_venues = pd.DataFrame([item for venue_list in venues_list for item in venue_list])\n    nearby_venues.columns = ['Address', \n                  'Address Latitude', \n                  'Address Longitude', \n                  'Venue', \n                  'Venue Latitude', \n                  'Venue Longitude',\n                  'Venue Distance',\n                  'Venue Category']\n    print('{} uniques categories were obtained, which will be transformed into features.'.format(len(nearby_venues['Venue Category'].unique())))\n    return(nearby_venues)"
        }, 
        {
            "source": "* Function to transform the Categories into columns with binary values:", 
            "cell_type": "markdown", 
            "metadata": {}
        }, 
        {
            "execution_count": 30, 
            "cell_type": "code", 
            "metadata": {}, 
            "outputs": [], 
            "source": "def build_one_hot_df(df,column,extra_columns):\n    venues_onehot = pd.get_dummies(df[[column]], prefix=\"\", prefix_sep=\"\")\n\n    # add extra columns back to dataframe...\n    venues_onehot[extra_columns] = df[extra_columns]\n\n    # ...and moving to first position:\n    venues_onehot = venues_onehot.set_index(extra_columns).reset_index()\n    return venues_onehot"
        }, 
        {
            "source": "* We also build a function to use when grouping the values for each city. This function will also generate new features that may represent the city:", 
            "cell_type": "markdown", 
            "metadata": {}
        }, 
        {
            "execution_count": 31, 
            "cell_type": "code", 
            "metadata": {}, 
            "outputs": [], 
            "source": "def build_features(df):\n    d = {}\n    d = df.mean()\n    d['Density'] = df[df['Venue Distance'] < 200.0]['Address'].count()/200.0\n\n    return pd.Series(d)"
        }, 
        {
            "source": "* And finally, a wrapping function that takes a list of cities and builds the final DataFrame to be used with different Machine Learning methods.\nThis function performs the following tasks:\n - Gets the Latitude and Longitude of the cities;\n - Obtain the list of venues, their categories and their distances;\n - Transforms the categories into features (columns) with binary values;\n - Groups the different cities by taking the average for each category, and optionally the number of venues inside a radius ('Density').", 
            "cell_type": "markdown", 
            "metadata": {}
        }, 
        {
            "execution_count": 32, 
            "cell_type": "code", 
            "metadata": {}, 
            "outputs": [], 
            "source": "def build_dataframe(addresses, use_density=True):\n    df_in = build_latitude_longitude_df(addresses)\n\n    venues = getNearbyVenues(names=df_in['Address'],\n                             latitudes=df_in['Latitude'],\n                             longitudes=df_in['Longitude']\n                            )\n\n    venues_onehot = build_one_hot_df(venues, 'Venue Category', ['Address','Venue Distance'])\n\n    venues_onehot = venues_onehot.groupby('Address').apply(build_features).drop('Venue Distance', axis=1)\n\n    if(use_density==False):\n        venues_onehot.drop('Density', axis=1, inplace=True)\n\n    return venues_onehot"
        }, 
        {
            "source": "### Feature scaling", 
            "cell_type": "markdown", 
            "metadata": {}
        }, 
        {
            "source": "Even though all our features have values between 0 and 1, the numbers corresponding to the average categories can be small compared to the density (when this is included).\nBesides, if further extensions are made to the feature list, normalizing the values will avoid overestimating or underestimating the importance of a certain feature.\nTherefore, we scale the features using the `StandardScaler` from the `sklearn` preprocessing library", 
            "cell_type": "markdown", 
            "metadata": {}
        }, 
        {
            "execution_count": 84, 
            "cell_type": "code", 
            "metadata": {}, 
            "outputs": [], 
            "source": "from sklearn.preprocessing import StandardScaler"
        }, 
        {
            "execution_count": 89, 
            "cell_type": "code", 
            "metadata": {}, 
            "outputs": [], 
            "source": "def scale_features(x):\n    x = x.values #returns a numpy array\n    min_max_scaler = MinMaxScaler()\n    scaled_features = StandardScaler().fit_transform(x)\n    return scaled_features"
        }, 
        {
            "source": "### Distance calculation", 
            "cell_type": "markdown", 
            "metadata": {}
        }, 
        {
            "source": "To quantify the difference between the cities, we calculate the distance matrix using the _Euclidean distance_.\nWe first import the `scipy` library:", 
            "cell_type": "markdown", 
            "metadata": {}
        }, 
        {
            "execution_count": 13, 
            "cell_type": "code", 
            "metadata": {}, 
            "outputs": [], 
            "source": "import scipy"
        }, 
        {
            "execution_count": 77, 
            "cell_type": "code", 
            "metadata": {}, 
            "outputs": [], 
            "source": "def calc_dist_matrix(feature_df):\n    leng = feature_df.shape[0]\n    D = scipy.zeros([leng,leng])\n\n    for i in range(leng):\n        for j in range(leng):\n            D[i,j] = scipy.spatial.distance.euclidean(feature_df[i], feature_df[j])\n    return D"
        }, 
        {
            "source": "### Clustering cities", 
            "cell_type": "markdown", 
            "metadata": {}
        }, 
        {
            "source": "To recognize the characteristics of each city after performing some machine learning algorithm, we can analyse the top venues in a civen city using the following function:", 
            "cell_type": "markdown", 
            "metadata": {}
        }, 
        {
            "execution_count": 33, 
            "cell_type": "code", 
            "metadata": {}, 
            "outputs": [], 
            "source": "# Defining the function to return the most common category\ndef return_most_common_venues(row, num_top_venues):\n    row_categories = row.iloc[1:]\n    row_categories_sorted = row_categories.sort_values(ascending=False)\n    \n    return row_categories_sorted.index.values[0:num_top_venues]\n\n# Defining the function to build a DF with the most common venues as columns\ndef build_top_venues_df(input_df,num_top_venues = 10):\n    indicators = ['st', 'nd', 'rd']\n\n    # create columns according to number of top venues\n    columns = ['Address']\n    for ind in np.arange(num_top_venues):\n        try:\n            columns.append('{}{} Most Common Venue'.format(ind+1, indicators[ind]))\n        except:\n            columns.append('{}th Most Common Venue'.format(ind+1))\n\n    # create a new dataframe\n    neighborhoods_venues_sorted = pd.DataFrame(columns=columns)\n    neighborhoods_venues_sorted['Address'] = input_df['Address']\n\n    for ind in np.arange(input_df.shape[0]):\n        neighborhoods_venues_sorted.iloc[ind, 1:] = return_most_common_venues(input_df.iloc[ind, :], num_top_venues)\n\n    return neighborhoods_venues_sorted"
        }, 
        {
            "source": "So, we build a Dataframe with all the features (venues categories and, optionally, density), and apply the K-Means Clustering algorithm to group the cities. After clustering the different cities, we use the function above to print the main categories for each city and their respective cluster.", 
            "cell_type": "markdown", 
            "metadata": {}
        }, 
        {
            "execution_count": 34, 
            "cell_type": "code", 
            "metadata": {}, 
            "outputs": [], 
            "source": "# import k-means from clustering stage\nfrom sklearn.cluster import KMeans"
        }, 
        {
            "execution_count": 87, 
            "cell_type": "code", 
            "metadata": {}, 
            "outputs": [
                {
                    "output_type": "stream", 
                    "name": "stdout", 
                    "text": "259 uniques categories were obtained, which will be transformed into features.\n"
                }, 
                {
                    "execution_count": 87, 
                    "metadata": {}, 
                    "data": {
                        "text/html": "<div>\n<style scoped>\n    .dataframe tbody tr th:only-of-type {\n        vertical-align: middle;\n    }\n\n    .dataframe tbody tr th {\n        vertical-align: top;\n    }\n\n    .dataframe thead th {\n        text-align: right;\n    }\n</style>\n<table border=\"1\" class=\"dataframe\">\n  <thead>\n    <tr style=\"text-align: right;\">\n      <th></th>\n      <th>Accessories Store</th>\n      <th>Adult Boutique</th>\n      <th>Airport Service</th>\n      <th>American Restaurant</th>\n      <th>Aquarium</th>\n      <th>Arcade</th>\n      <th>Argentinian Restaurant</th>\n      <th>Art Gallery</th>\n      <th>Art Museum</th>\n      <th>Arts &amp; Crafts Store</th>\n      <th>...</th>\n      <th>Train Station</th>\n      <th>Trattoria/Osteria</th>\n      <th>Travel Agency</th>\n      <th>Turkish Restaurant</th>\n      <th>University</th>\n      <th>Well</th>\n      <th>Wine Bar</th>\n      <th>Winery</th>\n      <th>Women's Store</th>\n      <th>Density</th>\n    </tr>\n    <tr>\n      <th>Address</th>\n      <th></th>\n      <th></th>\n      <th></th>\n      <th></th>\n      <th></th>\n      <th></th>\n      <th></th>\n      <th></th>\n      <th></th>\n      <th></th>\n      <th></th>\n      <th></th>\n      <th></th>\n      <th></th>\n      <th></th>\n      <th></th>\n      <th></th>\n      <th></th>\n      <th></th>\n      <th></th>\n      <th></th>\n    </tr>\n  </thead>\n  <tbody>\n    <tr>\n      <th>Amsterdam, Netherlands</th>\n      <td>0.000000</td>\n      <td>0.028986</td>\n      <td>0.000000</td>\n      <td>0.007246</td>\n      <td>0.000000</td>\n      <td>0.014493</td>\n      <td>0.007246</td>\n      <td>0.014493</td>\n      <td>0.00000</td>\n      <td>0.007246</td>\n      <td>...</td>\n      <td>0.000000</td>\n      <td>0.000000</td>\n      <td>0.000000</td>\n      <td>0.000000</td>\n      <td>0.000000</td>\n      <td>0.000000</td>\n      <td>0.000000</td>\n      <td>0.000000</td>\n      <td>0.000000</td>\n      <td>0.690</td>\n    </tr>\n    <tr>\n      <th>Cologne, Germany</th>\n      <td>0.007812</td>\n      <td>0.000000</td>\n      <td>0.000000</td>\n      <td>0.000000</td>\n      <td>0.007812</td>\n      <td>0.000000</td>\n      <td>0.007812</td>\n      <td>0.000000</td>\n      <td>0.00000</td>\n      <td>0.007812</td>\n      <td>...</td>\n      <td>0.007812</td>\n      <td>0.000000</td>\n      <td>0.007812</td>\n      <td>0.007812</td>\n      <td>0.000000</td>\n      <td>0.007812</td>\n      <td>0.007812</td>\n      <td>0.000000</td>\n      <td>0.000000</td>\n      <td>0.610</td>\n    </tr>\n    <tr>\n      <th>Dublin, Ireland</th>\n      <td>0.008130</td>\n      <td>0.000000</td>\n      <td>0.000000</td>\n      <td>0.000000</td>\n      <td>0.000000</td>\n      <td>0.000000</td>\n      <td>0.000000</td>\n      <td>0.000000</td>\n      <td>0.00000</td>\n      <td>0.000000</td>\n      <td>...</td>\n      <td>0.000000</td>\n      <td>0.000000</td>\n      <td>0.016260</td>\n      <td>0.000000</td>\n      <td>0.000000</td>\n      <td>0.000000</td>\n      <td>0.008130</td>\n      <td>0.000000</td>\n      <td>0.032520</td>\n      <td>0.590</td>\n    </tr>\n    <tr>\n      <th>Juelich, Germany</th>\n      <td>0.000000</td>\n      <td>0.000000</td>\n      <td>0.000000</td>\n      <td>0.010870</td>\n      <td>0.000000</td>\n      <td>0.000000</td>\n      <td>0.000000</td>\n      <td>0.000000</td>\n      <td>0.00000</td>\n      <td>0.000000</td>\n      <td>...</td>\n      <td>0.000000</td>\n      <td>0.021739</td>\n      <td>0.000000</td>\n      <td>0.000000</td>\n      <td>0.000000</td>\n      <td>0.000000</td>\n      <td>0.000000</td>\n      <td>0.000000</td>\n      <td>0.000000</td>\n      <td>0.315</td>\n    </tr>\n    <tr>\n      <th>London, England</th>\n      <td>0.000000</td>\n      <td>0.000000</td>\n      <td>0.000000</td>\n      <td>0.008850</td>\n      <td>0.000000</td>\n      <td>0.008850</td>\n      <td>0.000000</td>\n      <td>0.000000</td>\n      <td>0.00885</td>\n      <td>0.000000</td>\n      <td>...</td>\n      <td>0.000000</td>\n      <td>0.000000</td>\n      <td>0.017699</td>\n      <td>0.000000</td>\n      <td>0.000000</td>\n      <td>0.000000</td>\n      <td>0.000000</td>\n      <td>0.000000</td>\n      <td>0.008850</td>\n      <td>0.510</td>\n    </tr>\n    <tr>\n      <th>New York, USA</th>\n      <td>0.000000</td>\n      <td>0.000000</td>\n      <td>0.000000</td>\n      <td>0.007692</td>\n      <td>0.000000</td>\n      <td>0.000000</td>\n      <td>0.000000</td>\n      <td>0.000000</td>\n      <td>0.00000</td>\n      <td>0.007692</td>\n      <td>...</td>\n      <td>0.000000</td>\n      <td>0.000000</td>\n      <td>0.000000</td>\n      <td>0.000000</td>\n      <td>0.000000</td>\n      <td>0.000000</td>\n      <td>0.000000</td>\n      <td>0.000000</td>\n      <td>0.015385</td>\n      <td>0.615</td>\n    </tr>\n    <tr>\n      <th>Sao Paulo, Brazil</th>\n      <td>0.000000</td>\n      <td>0.000000</td>\n      <td>0.006579</td>\n      <td>0.013158</td>\n      <td>0.000000</td>\n      <td>0.000000</td>\n      <td>0.000000</td>\n      <td>0.006579</td>\n      <td>0.00000</td>\n      <td>0.006579</td>\n      <td>...</td>\n      <td>0.000000</td>\n      <td>0.000000</td>\n      <td>0.006579</td>\n      <td>0.000000</td>\n      <td>0.006579</td>\n      <td>0.000000</td>\n      <td>0.000000</td>\n      <td>0.006579</td>\n      <td>0.000000</td>\n      <td>0.725</td>\n    </tr>\n  </tbody>\n</table>\n<p>7 rows \u00d7 260 columns</p>\n</div>", 
                        "text/plain": "                        Accessories Store  Adult Boutique  Airport Service  \\\nAddress                                                                      \nAmsterdam, Netherlands           0.000000        0.028986         0.000000   \nCologne, Germany                 0.007812        0.000000         0.000000   \nDublin, Ireland                  0.008130        0.000000         0.000000   \nJuelich, Germany                 0.000000        0.000000         0.000000   \nLondon, England                  0.000000        0.000000         0.000000   \nNew York, USA                    0.000000        0.000000         0.000000   \nSao Paulo, Brazil                0.000000        0.000000         0.006579   \n\n                        American Restaurant  Aquarium    Arcade  \\\nAddress                                                           \nAmsterdam, Netherlands             0.007246  0.000000  0.014493   \nCologne, Germany                   0.000000  0.007812  0.000000   \nDublin, Ireland                    0.000000  0.000000  0.000000   \nJuelich, Germany                   0.010870  0.000000  0.000000   \nLondon, England                    0.008850  0.000000  0.008850   \nNew York, USA                      0.007692  0.000000  0.000000   \nSao Paulo, Brazil                  0.013158  0.000000  0.000000   \n\n                        Argentinian Restaurant  Art Gallery  Art Museum  \\\nAddress                                                                   \nAmsterdam, Netherlands                0.007246     0.014493     0.00000   \nCologne, Germany                      0.007812     0.000000     0.00000   \nDublin, Ireland                       0.000000     0.000000     0.00000   \nJuelich, Germany                      0.000000     0.000000     0.00000   \nLondon, England                       0.000000     0.000000     0.00885   \nNew York, USA                         0.000000     0.000000     0.00000   \nSao Paulo, Brazil                     0.000000     0.006579     0.00000   \n\n                        Arts & Crafts Store  ...  Train Station  \\\nAddress                                      ...                  \nAmsterdam, Netherlands             0.007246  ...       0.000000   \nCologne, Germany                   0.007812  ...       0.007812   \nDublin, Ireland                    0.000000  ...       0.000000   \nJuelich, Germany                   0.000000  ...       0.000000   \nLondon, England                    0.000000  ...       0.000000   \nNew York, USA                      0.007692  ...       0.000000   \nSao Paulo, Brazil                  0.006579  ...       0.000000   \n\n                        Trattoria/Osteria  Travel Agency  Turkish Restaurant  \\\nAddress                                                                        \nAmsterdam, Netherlands           0.000000       0.000000            0.000000   \nCologne, Germany                 0.000000       0.007812            0.007812   \nDublin, Ireland                  0.000000       0.016260            0.000000   \nJuelich, Germany                 0.021739       0.000000            0.000000   \nLondon, England                  0.000000       0.017699            0.000000   \nNew York, USA                    0.000000       0.000000            0.000000   \nSao Paulo, Brazil                0.000000       0.006579            0.000000   \n\n                        University      Well  Wine Bar    Winery  \\\nAddress                                                            \nAmsterdam, Netherlands    0.000000  0.000000  0.000000  0.000000   \nCologne, Germany          0.000000  0.007812  0.007812  0.000000   \nDublin, Ireland           0.000000  0.000000  0.008130  0.000000   \nJuelich, Germany          0.000000  0.000000  0.000000  0.000000   \nLondon, England           0.000000  0.000000  0.000000  0.000000   \nNew York, USA             0.000000  0.000000  0.000000  0.000000   \nSao Paulo, Brazil         0.006579  0.000000  0.000000  0.006579   \n\n                        Women's Store  Density  \nAddress                                         \nAmsterdam, Netherlands       0.000000    0.690  \nCologne, Germany             0.000000    0.610  \nDublin, Ireland              0.032520    0.590  \nJuelich, Germany             0.000000    0.315  \nLondon, England              0.008850    0.510  \nNew York, USA                0.015385    0.615  \nSao Paulo, Brazil            0.000000    0.725  \n\n[7 rows x 260 columns]"
                    }, 
                    "output_type": "execute_result"
                }
            ], 
            "source": "df_complete = build_dataframe(addresses, use_density=True)\ndf_complete"
        }, 
        {
            "execution_count": 91, 
            "cell_type": "code", 
            "metadata": {}, 
            "outputs": [
                {
                    "execution_count": 91, 
                    "metadata": {}, 
                    "data": {
                        "text/html": "<div>\n<style scoped>\n    .dataframe tbody tr th:only-of-type {\n        vertical-align: middle;\n    }\n\n    .dataframe tbody tr th {\n        vertical-align: top;\n    }\n\n    .dataframe thead th {\n        text-align: right;\n    }\n</style>\n<table border=\"1\" class=\"dataframe\">\n  <thead>\n    <tr style=\"text-align: right;\">\n      <th></th>\n      <th>Accessories Store</th>\n      <th>Adult Boutique</th>\n      <th>Airport Service</th>\n      <th>American Restaurant</th>\n      <th>Aquarium</th>\n      <th>Arcade</th>\n      <th>Argentinian Restaurant</th>\n      <th>Art Gallery</th>\n      <th>Art Museum</th>\n      <th>Arts &amp; Crafts Store</th>\n      <th>...</th>\n      <th>Train Station</th>\n      <th>Trattoria/Osteria</th>\n      <th>Travel Agency</th>\n      <th>Turkish Restaurant</th>\n      <th>University</th>\n      <th>Well</th>\n      <th>Wine Bar</th>\n      <th>Winery</th>\n      <th>Women's Store</th>\n      <th>Density</th>\n    </tr>\n    <tr>\n      <th>Address</th>\n      <th></th>\n      <th></th>\n      <th></th>\n      <th></th>\n      <th></th>\n      <th></th>\n      <th></th>\n      <th></th>\n      <th></th>\n      <th></th>\n      <th></th>\n      <th></th>\n      <th></th>\n      <th></th>\n      <th></th>\n      <th></th>\n      <th></th>\n      <th></th>\n      <th></th>\n      <th></th>\n      <th></th>\n    </tr>\n  </thead>\n  <tbody>\n    <tr>\n      <th>Amsterdam, Netherlands</th>\n      <td>-0.632280</td>\n      <td>2.449490</td>\n      <td>-0.408248</td>\n      <td>0.088411</td>\n      <td>-0.408248</td>\n      <td>2.034685</td>\n      <td>1.496441</td>\n      <td>2.204617</td>\n      <td>-0.408248</td>\n      <td>0.838042</td>\n      <td>...</td>\n      <td>-0.408248</td>\n      <td>-0.408248</td>\n      <td>-0.979637</td>\n      <td>-0.408248</td>\n      <td>-0.408248</td>\n      <td>-0.408248</td>\n      <td>-0.632280</td>\n      <td>-0.408248</td>\n      <td>-0.710156</td>\n      <td>0.881308</td>\n    </tr>\n    <tr>\n      <th>Cologne, Germany</th>\n      <td>1.536617</td>\n      <td>-0.408248</td>\n      <td>-0.408248</td>\n      <td>-1.453253</td>\n      <td>2.449490</td>\n      <td>-0.608067</td>\n      <td>1.662713</td>\n      <td>-0.577960</td>\n      <td>-0.408248</td>\n      <td>0.993271</td>\n      <td>...</td>\n      <td>2.449490</td>\n      <td>-0.408248</td>\n      <td>0.128390</td>\n      <td>2.449490</td>\n      <td>-0.408248</td>\n      <td>2.449490</td>\n      <td>1.536617</td>\n      <td>-0.408248</td>\n      <td>-0.710156</td>\n      <td>0.244492</td>\n    </tr>\n    <tr>\n      <th>Dublin, Ireland</th>\n      <td>1.624783</td>\n      <td>-0.408248</td>\n      <td>-0.408248</td>\n      <td>-1.453253</td>\n      <td>-0.408248</td>\n      <td>-0.608067</td>\n      <td>-0.631831</td>\n      <td>-0.577960</td>\n      <td>-0.408248</td>\n      <td>-1.148887</td>\n      <td>...</td>\n      <td>-0.408248</td>\n      <td>-0.408248</td>\n      <td>1.326500</td>\n      <td>-0.408248</td>\n      <td>-0.408248</td>\n      <td>-0.408248</td>\n      <td>1.624783</td>\n      <td>-0.408248</td>\n      <td>2.138281</td>\n      <td>0.085288</td>\n    </tr>\n    <tr>\n      <th>Juelich, Germany</th>\n      <td>-0.632280</td>\n      <td>-0.408248</td>\n      <td>-0.408248</td>\n      <td>0.859243</td>\n      <td>-0.408248</td>\n      <td>-0.608067</td>\n      <td>-0.631831</td>\n      <td>-0.577960</td>\n      <td>-0.408248</td>\n      <td>-1.148887</td>\n      <td>...</td>\n      <td>-0.408248</td>\n      <td>2.449490</td>\n      <td>-0.979637</td>\n      <td>-0.408248</td>\n      <td>-0.408248</td>\n      <td>-0.408248</td>\n      <td>-0.632280</td>\n      <td>-0.408248</td>\n      <td>-0.710156</td>\n      <td>-2.103767</td>\n    </tr>\n    <tr>\n      <th>London, England</th>\n      <td>-0.632280</td>\n      <td>-0.408248</td>\n      <td>-0.408248</td>\n      <td>0.429487</td>\n      <td>-0.408248</td>\n      <td>1.005649</td>\n      <td>-0.631831</td>\n      <td>-0.577960</td>\n      <td>2.449490</td>\n      <td>-1.148887</td>\n      <td>...</td>\n      <td>-0.408248</td>\n      <td>-0.408248</td>\n      <td>1.530582</td>\n      <td>-0.408248</td>\n      <td>-0.408248</td>\n      <td>-0.408248</td>\n      <td>-0.632280</td>\n      <td>-0.408248</td>\n      <td>0.064971</td>\n      <td>-0.551528</td>\n    </tr>\n    <tr>\n      <th>New York, USA</th>\n      <td>-0.632280</td>\n      <td>-0.408248</td>\n      <td>-0.408248</td>\n      <td>0.183282</td>\n      <td>-0.408248</td>\n      <td>-0.608067</td>\n      <td>-0.631831</td>\n      <td>-0.577960</td>\n      <td>-0.408248</td>\n      <td>0.960314</td>\n      <td>...</td>\n      <td>-0.408248</td>\n      <td>-0.408248</td>\n      <td>-0.979637</td>\n      <td>-0.408248</td>\n      <td>-0.408248</td>\n      <td>-0.408248</td>\n      <td>-0.632280</td>\n      <td>-0.408248</td>\n      <td>0.637374</td>\n      <td>0.284293</td>\n    </tr>\n    <tr>\n      <th>Sao Paulo, Brazil</th>\n      <td>-0.632280</td>\n      <td>-0.408248</td>\n      <td>2.449490</td>\n      <td>1.346084</td>\n      <td>-0.408248</td>\n      <td>-0.608067</td>\n      <td>-0.631831</td>\n      <td>0.685183</td>\n      <td>-0.408248</td>\n      <td>0.655035</td>\n      <td>...</td>\n      <td>-0.408248</td>\n      <td>-0.408248</td>\n      <td>-0.046562</td>\n      <td>-0.408248</td>\n      <td>2.449490</td>\n      <td>-0.408248</td>\n      <td>-0.632280</td>\n      <td>2.449490</td>\n      <td>-0.710156</td>\n      <td>1.159915</td>\n    </tr>\n  </tbody>\n</table>\n<p>7 rows \u00d7 260 columns</p>\n</div>", 
                        "text/plain": "                        Accessories Store  Adult Boutique  Airport Service  \\\nAddress                                                                      \nAmsterdam, Netherlands          -0.632280        2.449490        -0.408248   \nCologne, Germany                 1.536617       -0.408248        -0.408248   \nDublin, Ireland                  1.624783       -0.408248        -0.408248   \nJuelich, Germany                -0.632280       -0.408248        -0.408248   \nLondon, England                 -0.632280       -0.408248        -0.408248   \nNew York, USA                   -0.632280       -0.408248        -0.408248   \nSao Paulo, Brazil               -0.632280       -0.408248         2.449490   \n\n                        American Restaurant  Aquarium    Arcade  \\\nAddress                                                           \nAmsterdam, Netherlands             0.088411 -0.408248  2.034685   \nCologne, Germany                  -1.453253  2.449490 -0.608067   \nDublin, Ireland                   -1.453253 -0.408248 -0.608067   \nJuelich, Germany                   0.859243 -0.408248 -0.608067   \nLondon, England                    0.429487 -0.408248  1.005649   \nNew York, USA                      0.183282 -0.408248 -0.608067   \nSao Paulo, Brazil                  1.346084 -0.408248 -0.608067   \n\n                        Argentinian Restaurant  Art Gallery  Art Museum  \\\nAddress                                                                   \nAmsterdam, Netherlands                1.496441     2.204617   -0.408248   \nCologne, Germany                      1.662713    -0.577960   -0.408248   \nDublin, Ireland                      -0.631831    -0.577960   -0.408248   \nJuelich, Germany                     -0.631831    -0.577960   -0.408248   \nLondon, England                      -0.631831    -0.577960    2.449490   \nNew York, USA                        -0.631831    -0.577960   -0.408248   \nSao Paulo, Brazil                    -0.631831     0.685183   -0.408248   \n\n                        Arts & Crafts Store  ...  Train Station  \\\nAddress                                      ...                  \nAmsterdam, Netherlands             0.838042  ...      -0.408248   \nCologne, Germany                   0.993271  ...       2.449490   \nDublin, Ireland                   -1.148887  ...      -0.408248   \nJuelich, Germany                  -1.148887  ...      -0.408248   \nLondon, England                   -1.148887  ...      -0.408248   \nNew York, USA                      0.960314  ...      -0.408248   \nSao Paulo, Brazil                  0.655035  ...      -0.408248   \n\n                        Trattoria/Osteria  Travel Agency  Turkish Restaurant  \\\nAddress                                                                        \nAmsterdam, Netherlands          -0.408248      -0.979637           -0.408248   \nCologne, Germany                -0.408248       0.128390            2.449490   \nDublin, Ireland                 -0.408248       1.326500           -0.408248   \nJuelich, Germany                 2.449490      -0.979637           -0.408248   \nLondon, England                 -0.408248       1.530582           -0.408248   \nNew York, USA                   -0.408248      -0.979637           -0.408248   \nSao Paulo, Brazil               -0.408248      -0.046562           -0.408248   \n\n                        University      Well  Wine Bar    Winery  \\\nAddress                                                            \nAmsterdam, Netherlands   -0.408248 -0.408248 -0.632280 -0.408248   \nCologne, Germany         -0.408248  2.449490  1.536617 -0.408248   \nDublin, Ireland          -0.408248 -0.408248  1.624783 -0.408248   \nJuelich, Germany         -0.408248 -0.408248 -0.632280 -0.408248   \nLondon, England          -0.408248 -0.408248 -0.632280 -0.408248   \nNew York, USA            -0.408248 -0.408248 -0.632280 -0.408248   \nSao Paulo, Brazil         2.449490 -0.408248 -0.632280  2.449490   \n\n                        Women's Store   Density  \nAddress                                          \nAmsterdam, Netherlands      -0.710156  0.881308  \nCologne, Germany            -0.710156  0.244492  \nDublin, Ireland              2.138281  0.085288  \nJuelich, Germany            -0.710156 -2.103767  \nLondon, England              0.064971 -0.551528  \nNew York, USA                0.637374  0.284293  \nSao Paulo, Brazil           -0.710156  1.159915  \n\n[7 rows x 260 columns]"
                    }, 
                    "output_type": "execute_result"
                }
            ], 
            "source": "pd.DataFrame(scale_features(df_complete),columns=df_complete.columns, index=df_complete.index)"
        }, 
        {
            "execution_count": 126, 
            "cell_type": "code", 
            "metadata": {}, 
            "outputs": [], 
            "source": "def group_and_cluster(addresses, kclusters = 3, use_density=True):\n    # Building Dataframe with all the Features to be used in k-means clustering\n    df_complete = build_dataframe(addresses, use_density=use_density)\n\n    # Scaling features\n    scaled_features = scale_features(df_complete)\n    \n    # Calculating the distance matrix between the cities and transforming to DataFrame:\n    dist_matrix = pd.DataFrame(calc_dist_matrix(scaled_features), columns=addresses, index=addresses)\n\n    # Recovering Dataframe with scaled features:\n    # df_complete = pd.DataFrame(scaled_features,columns=df_complete.columns, index=df_complete.index)\n\n    # run k-means clustering\n    kmeans = KMeans(init = \"k-means++\", n_clusters=kclusters, n_init = 12).fit(scaled_features)\n\n    # Creating DataFrame with top venue categories\n    if(use_density == True):\n        df_new = df_complete.drop('Density', axis=1)\n    else:\n        df_new = df_complete\n    top_venues_df = build_top_venues_df(df_new.reset_index())\n\n\n    # Add Density and Clustering labels\n    if(use_density==True):\n        top_venues_df.insert(0, 'Density', df_complete.reset_index()['Density'])\n    top_venues_df.insert(0, 'Cluster Labels', kmeans.labels_)\n\n    \n    cities = build_latitude_longitude_df(addresses)\n\n    # Merge the top venue categories dataframe with the one with city names and latitude/longitude\n    # The merge on the 'right' is meant to avoid the rare case that an addresses returns no venues from the Foursquare API\n    top_venues_df_final = cities.join(top_venues_df.set_index('Address'), on='Address', how='right')\n\n    return dist_matrix, top_venues_df_final"
        }, 
        {
            "source": "### Visualizing the results", 
            "cell_type": "markdown", 
            "metadata": {}
        }, 
        {
            "source": "Lastly, to visualize the cities and their cluster, we use a Folium map. First, importing the required libraries:", 
            "cell_type": "markdown", 
            "metadata": {}
        }, 
        {
            "execution_count": 41, 
            "cell_type": "code", 
            "metadata": {}, 
            "outputs": [], 
            "source": "# Matplotlib color modules\nimport matplotlib.cm as cm\nimport matplotlib.colors as colors\n\n# Map rendering library\n#!conda install -c conda-forge folium=0.5.0 --yes # uncomment this line if folium is not installed\nimport folium"
        }, 
        {
            "source": "And we define a complete function that creates the dataframe and cluster the cities, returning an interactive map with their labels printed out, as well as a dataframe with the top 10 venues characteritics:", 
            "cell_type": "markdown", 
            "metadata": {}
        }, 
        {
            "execution_count": 106, 
            "cell_type": "code", 
            "metadata": {}, 
            "outputs": [], 
            "source": "def group_cluster_map(addresses,kclusters = 3, use_density=True):\n\n    # Create Database with features and cluster cities using k-means\n    dist_matrix, df_clustered = group_and_cluster(addresses, kclusters=kclusters, use_density=use_density)\n\n    # Create Folium map\n    map_clusters = folium.Map()\n\n    # Fit minimum and maximum latitude and longitude\n    map_clusters.fit_bounds([[df_clustered['Latitude'].min(), df_clustered['Longitude'].min()], [df_clustered['Latitude'].max(), df_clustered['Longitude'].max()]])\n\n    # set color scheme for the clusters\n    x = np.arange(kclusters)\n    ys = [i + x + (i*x)**2 for i in range(kclusters)]\n    colors_array = cm.rainbow(np.linspace(0, 1, len(ys)))\n    rainbow = [colors.rgb2hex(i) for i in colors_array]\n\n    # Add markers to the map:\n    if(use_density==False): # Not using density\n        markers_colors = []\n        for lat, lon, poi, cluster in zip(df_clustered['Latitude'], df_clustered['Longitude'], df_clustered['Address'], df_clustered['Cluster Labels']):\n            label = folium.Popup(str(poi) + ' Cluster ' + str(cluster), parse_html=True)\n            folium.CircleMarker(\n                [lat, lon],\n                radius=5,\n                popup=label,\n                color=rainbow[cluster-1],\n                fill=True,\n                fill_color=rainbow[cluster-1],\n                fill_opacity=0.7).add_to(map_clusters)\n    else: # Using density for marker size\n        markers_colors = []\n        for lat, lon, poi, size, cluster in zip(df_clustered['Latitude'], df_clustered['Longitude'], df_clustered['Address'], df_clustered['Density'], df_clustered['Cluster Labels']):\n            label = folium.Popup(str(poi) + ' Cluster ' + str(cluster), parse_html=True)\n            folium.CircleMarker(\n                [lat, lon],\n                radius=10*(size**2),\n                popup=label,\n                color=rainbow[cluster-1],\n                fill=True,\n                fill_color=rainbow[cluster-1],\n                fill_opacity=0.7).add_to(map_clusters)\n    return df_clustered, dist_matrix, map_clusters"
        }, 
        {
            "source": "## 5 - Results and Discussion <a name=\"Results\"></a> ", 
            "cell_type": "markdown", 
            "metadata": {}
        }, 
        {
            "source": "<!-- where you discuss the results. -->\n<!-- where you discuss any observations you noted and any recommendations you can make based on the results. -->\nWith the generic functions defined in the previous chapter, we can now use it to compare different cities and try to answer a few questions.", 
            "cell_type": "markdown", 
            "metadata": {}
        }, 
        {
            "source": "### Big and small cities", 
            "cell_type": "markdown", 
            "metadata": {}
        }, 
        {
            "source": "We start by comparing big cities (Dublin, London, Cologne, Amsterdam, New York and S\u00e3o Paulo), as well as a small one (J\u00fclich, Germany):", 
            "cell_type": "markdown", 
            "metadata": {}
        }, 
        {
            "execution_count": 107, 
            "cell_type": "code", 
            "metadata": {}, 
            "outputs": [
                {
                    "output_type": "stream", 
                    "name": "stdout", 
                    "text": "259 uniques categories were obtained, which will be transformed into features.\n"
                }
            ], 
            "source": "addresses = ['Dublin, Ireland', 'London, England', 'Cologne, Germany', 'Juelich, Germany', 'Amsterdam, Netherlands', 'New York, USA', 'Sao Paulo, Brazil']\ndf_final, dist_matrix, map_clusters = group_cluster_map(addresses,kclusters = 3, use_density=True)"
        }, 
        {
            "source": "The returned Dataframe lists the most common categories of venues, as well as the cluster calculated by the K-Means algorithm:", 
            "cell_type": "markdown", 
            "metadata": {}
        }, 
        {
            "execution_count": 100, 
            "cell_type": "code", 
            "metadata": {
                "scrolled": false
            }, 
            "outputs": [
                {
                    "execution_count": 100, 
                    "metadata": {}, 
                    "data": {
                        "text/html": "<div>\n<style scoped>\n    .dataframe tbody tr th:only-of-type {\n        vertical-align: middle;\n    }\n\n    .dataframe tbody tr th {\n        vertical-align: top;\n    }\n\n    .dataframe thead th {\n        text-align: right;\n    }\n</style>\n<table border=\"1\" class=\"dataframe\">\n  <thead>\n    <tr style=\"text-align: right;\">\n      <th></th>\n      <th>Address</th>\n      <th>Latitude</th>\n      <th>Longitude</th>\n      <th>Cluster Labels</th>\n      <th>Density</th>\n      <th>1st Most Common Venue</th>\n      <th>2nd Most Common Venue</th>\n      <th>3rd Most Common Venue</th>\n      <th>4th Most Common Venue</th>\n      <th>5th Most Common Venue</th>\n      <th>6th Most Common Venue</th>\n      <th>7th Most Common Venue</th>\n      <th>8th Most Common Venue</th>\n      <th>9th Most Common Venue</th>\n      <th>10th Most Common Venue</th>\n    </tr>\n  </thead>\n  <tbody>\n    <tr>\n      <th>0</th>\n      <td>Dublin, Ireland</td>\n      <td>53.349764</td>\n      <td>-6.260273</td>\n      <td>0</td>\n      <td>0.590</td>\n      <td>Mobile Phone Shop</td>\n      <td>Coffee Shop</td>\n      <td>Salon / Barbershop</td>\n      <td>Bus Line</td>\n      <td>Bus Stop</td>\n      <td>Women's Store</td>\n      <td>Caf\u00e9</td>\n      <td>Fast Food Restaurant</td>\n      <td>Ice Cream Shop</td>\n      <td>Convenience Store</td>\n    </tr>\n    <tr>\n      <th>1</th>\n      <td>London, England</td>\n      <td>51.507322</td>\n      <td>-0.127647</td>\n      <td>0</td>\n      <td>0.510</td>\n      <td>Office</td>\n      <td>Outdoor Sculpture</td>\n      <td>Taxi</td>\n      <td>Government Building</td>\n      <td>Italian Restaurant</td>\n      <td>Coworking Space</td>\n      <td>Embassy / Consulate</td>\n      <td>Tech Startup</td>\n      <td>Coffee Shop</td>\n      <td>Business Service</td>\n    </tr>\n    <tr>\n      <th>2</th>\n      <td>Cologne, Germany</td>\n      <td>50.938361</td>\n      <td>6.959974</td>\n      <td>2</td>\n      <td>0.610</td>\n      <td>Hotel</td>\n      <td>Office</td>\n      <td>Bar</td>\n      <td>Italian Restaurant</td>\n      <td>German Restaurant</td>\n      <td>Plaza</td>\n      <td>Gay Bar</td>\n      <td>Doctor's Office</td>\n      <td>Residential Building (Apartment / Condo)</td>\n      <td>Historic Site</td>\n    </tr>\n    <tr>\n      <th>3</th>\n      <td>Juelich, Germany</td>\n      <td>50.922093</td>\n      <td>6.361102</td>\n      <td>0</td>\n      <td>0.315</td>\n      <td>Miscellaneous Shop</td>\n      <td>Pizza Place</td>\n      <td>Salon / Barbershop</td>\n      <td>Optical Shop</td>\n      <td>Caf\u00e9</td>\n      <td>Bank</td>\n      <td>Pharmacy</td>\n      <td>Clothing Store</td>\n      <td>Shoe Store</td>\n      <td>Bakery</td>\n    </tr>\n    <tr>\n      <th>4</th>\n      <td>Amsterdam, Netherlands</td>\n      <td>52.374540</td>\n      <td>4.897976</td>\n      <td>2</td>\n      <td>0.690</td>\n      <td>Bar</td>\n      <td>Coffee Shop</td>\n      <td>Burger Joint</td>\n      <td>Office</td>\n      <td>Adult Boutique</td>\n      <td>Marijuana Dispensary</td>\n      <td>Bridge</td>\n      <td>Caf\u00e9</td>\n      <td>Hostel</td>\n      <td>Hotel</td>\n    </tr>\n    <tr>\n      <th>5</th>\n      <td>New York, USA</td>\n      <td>40.712728</td>\n      <td>-74.006015</td>\n      <td>2</td>\n      <td>0.615</td>\n      <td>Office</td>\n      <td>Taxi</td>\n      <td>Food Truck</td>\n      <td>Government Building</td>\n      <td>College Classroom</td>\n      <td>Building</td>\n      <td>Lawyer</td>\n      <td>Bar</td>\n      <td>Bus Station</td>\n      <td>General College &amp; University</td>\n    </tr>\n    <tr>\n      <th>6</th>\n      <td>Sao Paulo, Brazil</td>\n      <td>-23.550651</td>\n      <td>-46.633382</td>\n      <td>1</td>\n      <td>0.725</td>\n      <td>Office</td>\n      <td>Pharmacy</td>\n      <td>College Academic Building</td>\n      <td>Historic Site</td>\n      <td>Cosmetics Shop</td>\n      <td>Building</td>\n      <td>Courthouse</td>\n      <td>Church</td>\n      <td>Music Venue</td>\n      <td>Outdoor Sculpture</td>\n    </tr>\n  </tbody>\n</table>\n</div>", 
                        "text/plain": "                  Address   Latitude  Longitude  Cluster Labels  Density  \\\n0         Dublin, Ireland  53.349764  -6.260273               0    0.590   \n1         London, England  51.507322  -0.127647               0    0.510   \n2        Cologne, Germany  50.938361   6.959974               2    0.610   \n3        Juelich, Germany  50.922093   6.361102               0    0.315   \n4  Amsterdam, Netherlands  52.374540   4.897976               2    0.690   \n5           New York, USA  40.712728 -74.006015               2    0.615   \n6       Sao Paulo, Brazil -23.550651 -46.633382               1    0.725   \n\n  1st Most Common Venue 2nd Most Common Venue      3rd Most Common Venue  \\\n0     Mobile Phone Shop           Coffee Shop         Salon / Barbershop   \n1                Office     Outdoor Sculpture                       Taxi   \n2                 Hotel                Office                        Bar   \n3    Miscellaneous Shop           Pizza Place         Salon / Barbershop   \n4                   Bar           Coffee Shop               Burger Joint   \n5                Office                  Taxi                 Food Truck   \n6                Office              Pharmacy  College Academic Building   \n\n  4th Most Common Venue 5th Most Common Venue 6th Most Common Venue  \\\n0              Bus Line              Bus Stop         Women's Store   \n1   Government Building    Italian Restaurant       Coworking Space   \n2    Italian Restaurant     German Restaurant                 Plaza   \n3          Optical Shop                  Caf\u00e9                  Bank   \n4                Office        Adult Boutique  Marijuana Dispensary   \n5   Government Building     College Classroom              Building   \n6         Historic Site        Cosmetics Shop              Building   \n\n  7th Most Common Venue 8th Most Common Venue  \\\n0                  Caf\u00e9  Fast Food Restaurant   \n1   Embassy / Consulate          Tech Startup   \n2               Gay Bar       Doctor's Office   \n3              Pharmacy        Clothing Store   \n4                Bridge                  Caf\u00e9   \n5                Lawyer                   Bar   \n6            Courthouse                Church   \n\n                      9th Most Common Venue        10th Most Common Venue  \n0                            Ice Cream Shop             Convenience Store  \n1                               Coffee Shop              Business Service  \n2  Residential Building (Apartment / Condo)                 Historic Site  \n3                                Shoe Store                        Bakery  \n4                                    Hostel                         Hotel  \n5                               Bus Station  General College & University  \n6                               Music Venue             Outdoor Sculpture  "
                    }, 
                    "output_type": "execute_result"
                }
            ], 
            "source": "df_final"
        }, 
        {
            "source": "We can note from the results above that a small city (J\u00fclich) may be clustered together with the big cities in spite of other big cities such as S\u00e3o Paulo being in a separate cluster.  \nThe distance matrix provides a quantification for those differences:", 
            "cell_type": "markdown", 
            "metadata": {}
        }, 
        {
            "execution_count": 105, 
            "cell_type": "code", 
            "metadata": {
                "scrolled": true
            }, 
            "outputs": [
                {
                    "execution_count": 105, 
                    "metadata": {}, 
                    "data": {
                        "text/html": "<div>\n<style scoped>\n    .dataframe tbody tr th:only-of-type {\n        vertical-align: middle;\n    }\n\n    .dataframe tbody tr th {\n        vertical-align: top;\n    }\n\n    .dataframe thead th {\n        text-align: right;\n    }\n</style>\n<table border=\"1\" class=\"dataframe\">\n  <thead>\n    <tr style=\"text-align: right;\">\n      <th></th>\n      <th>Dublin, Ireland</th>\n      <th>London, England</th>\n      <th>Cologne, Germany</th>\n      <th>Juelich, Germany</th>\n      <th>Amsterdam, Netherlands</th>\n      <th>New York, USA</th>\n      <th>Sao Paulo, Brazil</th>\n    </tr>\n  </thead>\n  <tbody>\n    <tr>\n      <th>Dublin, Ireland</th>\n      <td>0.000000</td>\n      <td>24.246767</td>\n      <td>24.564217</td>\n      <td>25.478818</td>\n      <td>24.393808</td>\n      <td>24.775783</td>\n      <td>25.935727</td>\n    </tr>\n    <tr>\n      <th>London, England</th>\n      <td>24.246767</td>\n      <td>0.000000</td>\n      <td>24.303802</td>\n      <td>24.877851</td>\n      <td>24.405267</td>\n      <td>24.845097</td>\n      <td>25.162867</td>\n    </tr>\n    <tr>\n      <th>Cologne, Germany</th>\n      <td>24.564217</td>\n      <td>24.303802</td>\n      <td>0.000000</td>\n      <td>22.601027</td>\n      <td>22.627780</td>\n      <td>25.166785</td>\n      <td>25.695264</td>\n    </tr>\n    <tr>\n      <th>Juelich, Germany</th>\n      <td>25.478818</td>\n      <td>24.877851</td>\n      <td>22.601027</td>\n      <td>0.000000</td>\n      <td>23.770524</td>\n      <td>24.673967</td>\n      <td>26.207041</td>\n    </tr>\n    <tr>\n      <th>Amsterdam, Netherlands</th>\n      <td>24.393808</td>\n      <td>24.405267</td>\n      <td>22.627780</td>\n      <td>23.770524</td>\n      <td>0.000000</td>\n      <td>22.914864</td>\n      <td>24.833543</td>\n    </tr>\n    <tr>\n      <th>New York, USA</th>\n      <td>24.775783</td>\n      <td>24.845097</td>\n      <td>25.166785</td>\n      <td>24.673967</td>\n      <td>22.914864</td>\n      <td>0.000000</td>\n      <td>25.365967</td>\n    </tr>\n    <tr>\n      <th>Sao Paulo, Brazil</th>\n      <td>25.935727</td>\n      <td>25.162867</td>\n      <td>25.695264</td>\n      <td>26.207041</td>\n      <td>24.833543</td>\n      <td>25.365967</td>\n      <td>0.000000</td>\n    </tr>\n  </tbody>\n</table>\n</div>", 
                        "text/plain": "                        Dublin, Ireland  London, England  Cologne, Germany  \\\nDublin, Ireland                0.000000        24.246767         24.564217   \nLondon, England               24.246767         0.000000         24.303802   \nCologne, Germany              24.564217        24.303802          0.000000   \nJuelich, Germany              25.478818        24.877851         22.601027   \nAmsterdam, Netherlands        24.393808        24.405267         22.627780   \nNew York, USA                 24.775783        24.845097         25.166785   \nSao Paulo, Brazil             25.935727        25.162867         25.695264   \n\n                        Juelich, Germany  Amsterdam, Netherlands  \\\nDublin, Ireland                25.478818               24.393808   \nLondon, England                24.877851               24.405267   \nCologne, Germany               22.601027               22.627780   \nJuelich, Germany                0.000000               23.770524   \nAmsterdam, Netherlands         23.770524                0.000000   \nNew York, USA                  24.673967               22.914864   \nSao Paulo, Brazil              26.207041               24.833543   \n\n                        New York, USA  Sao Paulo, Brazil  \nDublin, Ireland             24.775783          25.935727  \nLondon, England             24.845097          25.162867  \nCologne, Germany            25.166785          25.695264  \nJuelich, Germany            24.673967          26.207041  \nAmsterdam, Netherlands      22.914864          24.833543  \nNew York, USA                0.000000          25.365967  \nSao Paulo, Brazil           25.365967           0.000000  "
                    }, 
                    "output_type": "execute_result"
                }
            ], 
            "source": "dist_matrix"
        }, 
        {
            "source": "Note that the distance from S\u00e3o Paulo to all the other cities tend to be larger - even though other cities are also disparate (as Dublin from J\u00fclich, or New York from Cologne).  \nIn this sense, the city that is more similar to Dublin is London, followed closely by Amsterdam and then Cologne.\n\nThe clusters can be plotted on a map, which can provide further insights to the results:", 
            "cell_type": "markdown", 
            "metadata": {}
        }, 
        {
            "execution_count": 146, 
            "cell_type": "code", 
            "metadata": {}, 
            "outputs": [
                {
                    "execution_count": 146, 
                    "metadata": {}, 
                    "data": {
                        "text/html": "<div style=\"width:100%;\"><div style=\"position:relative;width:100%;height:0;padding-bottom:60%;\"><iframe src=\"data:text/html;charset=utf-8;base64,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\" style=\"position:absolute;width:100%;height:100%;left:0;top:0;border:none !important;\" allowfullscreen webkitallowfullscreen mozallowfullscreen></iframe></div></div>", 
                        "text/plain": "<folium.folium.Map at 0x7fe6621638d0>"
                    }, 
                    "output_type": "execute_result"
                }
            ], 
            "source": "map_clusters"
        }, 
        {
            "source": "It seems that geographical distance have a large influence on the similarity or difference between the cities.\nFor example, J\u00fclich and Cologne, nearby cities, have the closest Euclidian distance.\nAnother correlation can originate from historical reasons: New York and London are relatively similar to each other.", 
            "cell_type": "markdown", 
            "metadata": {}
        }, 
        {
            "source": "### Large differences", 
            "cell_type": "markdown", 
            "metadata": {}
        }, 
        {
            "source": "We now try to find the difference between very disparate big cities - a question that a traveller or an explorer may have.\nWe compare the cities of Shanghai, Tokyo, Johannesburg and S\u00e3o Paulo. \nAs a mean of comparison, we also include Cologne and J\u00fclich, the cities with shortest distance from the previous example.\n\nIn this case, the density will not be used, since Foursquare provide very different number of venues in each of the cities.", 
            "cell_type": "markdown", 
            "metadata": {}
        }, 
        {
            "execution_count": 139, 
            "cell_type": "code", 
            "metadata": {}, 
            "outputs": [
                {
                    "output_type": "stream", 
                    "name": "stdout", 
                    "text": "240 uniques categories were obtained, which will be transformed into features.\n"
                }
            ], 
            "source": "addresses = ['Shanghai, China', 'Tokyo, Japan', 'Johannesburg, South Africa', 'Sao Paulo, Brazil', 'Cologne, Germany', 'Juelich, Germany']\ndf_final_2, dist_matrix_2, map_clusters_2 = group_cluster_map(addresses, kclusters = 3, use_density=False)"
        }, 
        {
            "source": "We start by looking at the clusters and the most common venues:", 
            "cell_type": "markdown", 
            "metadata": {}
        }, 
        {
            "execution_count": 140, 
            "cell_type": "code", 
            "metadata": {}, 
            "outputs": [
                {
                    "execution_count": 140, 
                    "metadata": {}, 
                    "data": {
                        "text/html": "<div>\n<style scoped>\n    .dataframe tbody tr th:only-of-type {\n        vertical-align: middle;\n    }\n\n    .dataframe tbody tr th {\n        vertical-align: top;\n    }\n\n    .dataframe thead th {\n        text-align: right;\n    }\n</style>\n<table border=\"1\" class=\"dataframe\">\n  <thead>\n    <tr style=\"text-align: right;\">\n      <th></th>\n      <th>Address</th>\n      <th>Latitude</th>\n      <th>Longitude</th>\n      <th>Cluster Labels</th>\n      <th>1st Most Common Venue</th>\n      <th>2nd Most Common Venue</th>\n      <th>3rd Most Common Venue</th>\n      <th>4th Most Common Venue</th>\n      <th>5th Most Common Venue</th>\n      <th>6th Most Common Venue</th>\n      <th>7th Most Common Venue</th>\n      <th>8th Most Common Venue</th>\n      <th>9th Most Common Venue</th>\n      <th>10th Most Common Venue</th>\n    </tr>\n  </thead>\n  <tbody>\n    <tr>\n      <th>0</th>\n      <td>Shanghai, China</td>\n      <td>31.232274</td>\n      <td>121.469175</td>\n      <td>1</td>\n      <td>Chinese Restaurant</td>\n      <td>Coffee Shop</td>\n      <td>Office</td>\n      <td>Theater</td>\n      <td>Art Museum</td>\n      <td>Japanese Restaurant</td>\n      <td>Shopping Mall</td>\n      <td>Tea Room</td>\n      <td>Convenience Store</td>\n      <td>Italian Restaurant</td>\n    </tr>\n    <tr>\n      <th>1</th>\n      <td>Tokyo, Japan</td>\n      <td>35.682839</td>\n      <td>139.759455</td>\n      <td>1</td>\n      <td>Historic Site</td>\n      <td>Japanese Restaurant</td>\n      <td>Office</td>\n      <td>Convenience Store</td>\n      <td>Italian Restaurant</td>\n      <td>Coworking Space</td>\n      <td>Chinese Restaurant</td>\n      <td>Hotel Bar</td>\n      <td>Police Station</td>\n      <td>Lounge</td>\n    </tr>\n    <tr>\n      <th>2</th>\n      <td>Johannesburg, South Africa</td>\n      <td>-26.205000</td>\n      <td>28.049722</td>\n      <td>1</td>\n      <td>Office</td>\n      <td>Building</td>\n      <td>Caf\u00e9</td>\n      <td>Automotive Shop</td>\n      <td>Clothing Store</td>\n      <td>Portuguese Restaurant</td>\n      <td>Fast Food Restaurant</td>\n      <td>Bank</td>\n      <td>Coworking Space</td>\n      <td>Breakfast Spot</td>\n    </tr>\n    <tr>\n      <th>3</th>\n      <td>Sao Paulo, Brazil</td>\n      <td>-23.550651</td>\n      <td>-46.633382</td>\n      <td>2</td>\n      <td>Office</td>\n      <td>Pharmacy</td>\n      <td>College Academic Building</td>\n      <td>Historic Site</td>\n      <td>Building</td>\n      <td>Cosmetics Shop</td>\n      <td>Courthouse</td>\n      <td>Church</td>\n      <td>Monument / Landmark</td>\n      <td>Spa</td>\n    </tr>\n    <tr>\n      <th>4</th>\n      <td>Cologne, Germany</td>\n      <td>50.938361</td>\n      <td>6.959974</td>\n      <td>1</td>\n      <td>Hotel</td>\n      <td>Office</td>\n      <td>Bar</td>\n      <td>Plaza</td>\n      <td>German Restaurant</td>\n      <td>Italian Restaurant</td>\n      <td>Gay Bar</td>\n      <td>Residential Building (Apartment / Condo)</td>\n      <td>Road</td>\n      <td>Brewery</td>\n    </tr>\n    <tr>\n      <th>5</th>\n      <td>Juelich, Germany</td>\n      <td>50.922093</td>\n      <td>6.361102</td>\n      <td>0</td>\n      <td>Miscellaneous Shop</td>\n      <td>Pizza Place</td>\n      <td>Salon / Barbershop</td>\n      <td>Caf\u00e9</td>\n      <td>Optical Shop</td>\n      <td>Pharmacy</td>\n      <td>Bank</td>\n      <td>Clothing Store</td>\n      <td>Doner Restaurant</td>\n      <td>Bakery</td>\n    </tr>\n  </tbody>\n</table>\n</div>", 
                        "text/plain": "                      Address   Latitude   Longitude  Cluster Labels  \\\n0             Shanghai, China  31.232274  121.469175               1   \n1                Tokyo, Japan  35.682839  139.759455               1   \n2  Johannesburg, South Africa -26.205000   28.049722               1   \n3           Sao Paulo, Brazil -23.550651  -46.633382               2   \n4            Cologne, Germany  50.938361    6.959974               1   \n5            Juelich, Germany  50.922093    6.361102               0   \n\n  1st Most Common Venue 2nd Most Common Venue      3rd Most Common Venue  \\\n0    Chinese Restaurant           Coffee Shop                     Office   \n1         Historic Site   Japanese Restaurant                     Office   \n2                Office              Building                       Caf\u00e9   \n3                Office              Pharmacy  College Academic Building   \n4                 Hotel                Office                        Bar   \n5    Miscellaneous Shop           Pizza Place         Salon / Barbershop   \n\n  4th Most Common Venue 5th Most Common Venue  6th Most Common Venue  \\\n0               Theater            Art Museum    Japanese Restaurant   \n1     Convenience Store    Italian Restaurant        Coworking Space   \n2       Automotive Shop        Clothing Store  Portuguese Restaurant   \n3         Historic Site              Building         Cosmetics Shop   \n4                 Plaza     German Restaurant     Italian Restaurant   \n5                  Caf\u00e9          Optical Shop               Pharmacy   \n\n  7th Most Common Venue                     8th Most Common Venue  \\\n0         Shopping Mall                                  Tea Room   \n1    Chinese Restaurant                                 Hotel Bar   \n2  Fast Food Restaurant                                      Bank   \n3            Courthouse                                    Church   \n4               Gay Bar  Residential Building (Apartment / Condo)   \n5                  Bank                            Clothing Store   \n\n  9th Most Common Venue 10th Most Common Venue  \n0     Convenience Store     Italian Restaurant  \n1        Police Station                 Lounge  \n2       Coworking Space         Breakfast Spot  \n3   Monument / Landmark                    Spa  \n4                  Road                Brewery  \n5      Doner Restaurant                 Bakery  "
                    }, 
                    "output_type": "execute_result"
                }
            ], 
            "source": "df_final_2"
        }, 
        {
            "source": "In this case, the city of S\u00e3o Paulo stands in a separate cluster, indicating that it is still the most different from the other ones.\nThis is confirmed by the distance matrix:", 
            "cell_type": "markdown", 
            "metadata": {}
        }, 
        {
            "execution_count": 141, 
            "cell_type": "code", 
            "metadata": {}, 
            "outputs": [
                {
                    "execution_count": 141, 
                    "metadata": {}, 
                    "data": {
                        "text/html": "<div>\n<style scoped>\n    .dataframe tbody tr th:only-of-type {\n        vertical-align: middle;\n    }\n\n    .dataframe tbody tr th {\n        vertical-align: top;\n    }\n\n    .dataframe thead th {\n        text-align: right;\n    }\n</style>\n<table border=\"1\" class=\"dataframe\">\n  <thead>\n    <tr style=\"text-align: right;\">\n      <th></th>\n      <th>Shanghai, China</th>\n      <th>Tokyo, Japan</th>\n      <th>Johannesburg, South Africa</th>\n      <th>Sao Paulo, Brazil</th>\n      <th>Cologne, Germany</th>\n      <th>Juelich, Germany</th>\n    </tr>\n  </thead>\n  <tbody>\n    <tr>\n      <th>Shanghai, China</th>\n      <td>0.000000</td>\n      <td>23.110470</td>\n      <td>24.129704</td>\n      <td>24.264237</td>\n      <td>23.550396</td>\n      <td>23.752523</td>\n    </tr>\n    <tr>\n      <th>Tokyo, Japan</th>\n      <td>23.110470</td>\n      <td>0.000000</td>\n      <td>23.546244</td>\n      <td>24.225114</td>\n      <td>23.327369</td>\n      <td>23.288283</td>\n    </tr>\n    <tr>\n      <th>Johannesburg, South Africa</th>\n      <td>24.129704</td>\n      <td>23.546244</td>\n      <td>0.000000</td>\n      <td>25.396546</td>\n      <td>24.318102</td>\n      <td>23.828016</td>\n    </tr>\n    <tr>\n      <th>Sao Paulo, Brazil</th>\n      <td>24.264237</td>\n      <td>24.225114</td>\n      <td>25.396546</td>\n      <td>0.000000</td>\n      <td>24.630309</td>\n      <td>25.496425</td>\n    </tr>\n    <tr>\n      <th>Cologne, Germany</th>\n      <td>23.550396</td>\n      <td>23.327369</td>\n      <td>24.318102</td>\n      <td>24.630309</td>\n      <td>0.000000</td>\n      <td>22.966630</td>\n    </tr>\n    <tr>\n      <th>Juelich, Germany</th>\n      <td>23.752523</td>\n      <td>23.288283</td>\n      <td>23.828016</td>\n      <td>25.496425</td>\n      <td>22.966630</td>\n      <td>0.000000</td>\n    </tr>\n  </tbody>\n</table>\n</div>", 
                        "text/plain": "                            Shanghai, China  Tokyo, Japan  \\\nShanghai, China                    0.000000     23.110470   \nTokyo, Japan                      23.110470      0.000000   \nJohannesburg, South Africa        24.129704     23.546244   \nSao Paulo, Brazil                 24.264237     24.225114   \nCologne, Germany                  23.550396     23.327369   \nJuelich, Germany                  23.752523     23.288283   \n\n                            Johannesburg, South Africa  Sao Paulo, Brazil  \\\nShanghai, China                              24.129704          24.264237   \nTokyo, Japan                                 23.546244          24.225114   \nJohannesburg, South Africa                    0.000000          25.396546   \nSao Paulo, Brazil                            25.396546           0.000000   \nCologne, Germany                             24.318102          24.630309   \nJuelich, Germany                             23.828016          25.496425   \n\n                            Cologne, Germany  Juelich, Germany  \nShanghai, China                    23.550396         23.752523  \nTokyo, Japan                       23.327369         23.288283  \nJohannesburg, South Africa         24.318102         23.828016  \nSao Paulo, Brazil                  24.630309         25.496425  \nCologne, Germany                    0.000000         22.966630  \nJuelich, Germany                   22.966630          0.000000  "
                    }, 
                    "output_type": "execute_result"
                }
            ], 
            "source": "dist_matrix_2"
        }, 
        {
            "source": "Note that, even though the distance between Cologne and J\u00fclich is still the smallest one, K-Means clustering placed them in different clusters.\n\nWe can extend now the clustering results between the big cities above by decreasing the list size:", 
            "cell_type": "markdown", 
            "metadata": {}
        }, 
        {
            "execution_count": 142, 
            "cell_type": "code", 
            "metadata": {}, 
            "outputs": [
                {
                    "output_type": "stream", 
                    "name": "stdout", 
                    "text": "193 uniques categories were obtained, which will be transformed into features.\n"
                }
            ], 
            "source": "addresses = ['Shanghai, China', 'Tokyo, Japan', 'Johannesburg, South Africa', 'Sao Paulo, Brazil']\ndf_final_3, dist_matrix_3, map_clusters_3 = group_cluster_map(addresses, kclusters = 3, use_density=False)"
        }, 
        {
            "execution_count": 143, 
            "cell_type": "code", 
            "metadata": {
                "scrolled": true
            }, 
            "outputs": [
                {
                    "execution_count": 143, 
                    "metadata": {}, 
                    "data": {
                        "text/html": "<div>\n<style scoped>\n    .dataframe tbody tr th:only-of-type {\n        vertical-align: middle;\n    }\n\n    .dataframe tbody tr th {\n        vertical-align: top;\n    }\n\n    .dataframe thead th {\n        text-align: right;\n    }\n</style>\n<table border=\"1\" class=\"dataframe\">\n  <thead>\n    <tr style=\"text-align: right;\">\n      <th></th>\n      <th>Address</th>\n      <th>Latitude</th>\n      <th>Longitude</th>\n      <th>Cluster Labels</th>\n      <th>1st Most Common Venue</th>\n      <th>2nd Most Common Venue</th>\n      <th>3rd Most Common Venue</th>\n      <th>4th Most Common Venue</th>\n      <th>5th Most Common Venue</th>\n      <th>6th Most Common Venue</th>\n      <th>7th Most Common Venue</th>\n      <th>8th Most Common Venue</th>\n      <th>9th Most Common Venue</th>\n      <th>10th Most Common Venue</th>\n    </tr>\n  </thead>\n  <tbody>\n    <tr>\n      <th>0</th>\n      <td>Shanghai, China</td>\n      <td>31.232274</td>\n      <td>121.469175</td>\n      <td>2</td>\n      <td>Chinese Restaurant</td>\n      <td>Coffee Shop</td>\n      <td>Office</td>\n      <td>Convenience Store</td>\n      <td>Noodle House</td>\n      <td>Italian Restaurant</td>\n      <td>Shopping Mall</td>\n      <td>Japanese Restaurant</td>\n      <td>Theater</td>\n      <td>Art Museum</td>\n    </tr>\n    <tr>\n      <th>1</th>\n      <td>Tokyo, Japan</td>\n      <td>35.682839</td>\n      <td>139.759455</td>\n      <td>1</td>\n      <td>Historic Site</td>\n      <td>Japanese Restaurant</td>\n      <td>Convenience Store</td>\n      <td>Office</td>\n      <td>Police Station</td>\n      <td>Italian Restaurant</td>\n      <td>Lounge</td>\n      <td>Coworking Space</td>\n      <td>Hotel Bar</td>\n      <td>Chinese Restaurant</td>\n    </tr>\n    <tr>\n      <th>2</th>\n      <td>Johannesburg, South Africa</td>\n      <td>-26.205000</td>\n      <td>28.049722</td>\n      <td>1</td>\n      <td>Office</td>\n      <td>Building</td>\n      <td>Caf\u00e9</td>\n      <td>Automotive Shop</td>\n      <td>Clothing Store</td>\n      <td>Bank</td>\n      <td>Fast Food Restaurant</td>\n      <td>Portuguese Restaurant</td>\n      <td>Coworking Space</td>\n      <td>Doctor's Office</td>\n    </tr>\n    <tr>\n      <th>3</th>\n      <td>Sao Paulo, Brazil</td>\n      <td>-23.550651</td>\n      <td>-46.633382</td>\n      <td>0</td>\n      <td>Office</td>\n      <td>Pharmacy</td>\n      <td>College Academic Building</td>\n      <td>Cosmetics Shop</td>\n      <td>Building</td>\n      <td>Historic Site</td>\n      <td>Church</td>\n      <td>Courthouse</td>\n      <td>Music Venue</td>\n      <td>Road</td>\n    </tr>\n  </tbody>\n</table>\n</div>", 
                        "text/plain": "                      Address   Latitude   Longitude  Cluster Labels  \\\n0             Shanghai, China  31.232274  121.469175               2   \n1                Tokyo, Japan  35.682839  139.759455               1   \n2  Johannesburg, South Africa -26.205000   28.049722               1   \n3           Sao Paulo, Brazil -23.550651  -46.633382               0   \n\n  1st Most Common Venue 2nd Most Common Venue      3rd Most Common Venue  \\\n0    Chinese Restaurant           Coffee Shop                     Office   \n1         Historic Site   Japanese Restaurant          Convenience Store   \n2                Office              Building                       Caf\u00e9   \n3                Office              Pharmacy  College Academic Building   \n\n  4th Most Common Venue 5th Most Common Venue 6th Most Common Venue  \\\n0     Convenience Store          Noodle House    Italian Restaurant   \n1                Office        Police Station    Italian Restaurant   \n2       Automotive Shop        Clothing Store                  Bank   \n3        Cosmetics Shop              Building         Historic Site   \n\n  7th Most Common Venue  8th Most Common Venue 9th Most Common Venue  \\\n0         Shopping Mall    Japanese Restaurant               Theater   \n1                Lounge        Coworking Space             Hotel Bar   \n2  Fast Food Restaurant  Portuguese Restaurant       Coworking Space   \n3                Church             Courthouse           Music Venue   \n\n  10th Most Common Venue  \n0             Art Museum  \n1     Chinese Restaurant  \n2        Doctor's Office  \n3                   Road  "
                    }, 
                    "output_type": "execute_result"
                }
            ], 
            "source": "df_final_3"
        }, 
        {
            "execution_count": 144, 
            "cell_type": "code", 
            "metadata": {}, 
            "outputs": [
                {
                    "execution_count": 144, 
                    "metadata": {}, 
                    "data": {
                        "text/html": "<div>\n<style scoped>\n    .dataframe tbody tr th:only-of-type {\n        vertical-align: middle;\n    }\n\n    .dataframe tbody tr th {\n        vertical-align: top;\n    }\n\n    .dataframe thead th {\n        text-align: right;\n    }\n</style>\n<table border=\"1\" class=\"dataframe\">\n  <thead>\n    <tr style=\"text-align: right;\">\n      <th></th>\n      <th>Shanghai, China</th>\n      <th>Tokyo, Japan</th>\n      <th>Johannesburg, South Africa</th>\n      <th>Sao Paulo, Brazil</th>\n    </tr>\n  </thead>\n  <tbody>\n    <tr>\n      <th>Shanghai, China</th>\n      <td>0.000000</td>\n      <td>22.822803</td>\n      <td>22.040519</td>\n      <td>21.559651</td>\n    </tr>\n    <tr>\n      <th>Tokyo, Japan</th>\n      <td>22.822803</td>\n      <td>0.000000</td>\n      <td>23.566859</td>\n      <td>24.281156</td>\n    </tr>\n    <tr>\n      <th>Johannesburg, South Africa</th>\n      <td>22.040519</td>\n      <td>23.566859</td>\n      <td>0.000000</td>\n      <td>21.715092</td>\n    </tr>\n    <tr>\n      <th>Sao Paulo, Brazil</th>\n      <td>21.559651</td>\n      <td>24.281156</td>\n      <td>21.715092</td>\n      <td>0.000000</td>\n    </tr>\n  </tbody>\n</table>\n</div>", 
                        "text/plain": "                            Shanghai, China  Tokyo, Japan  \\\nShanghai, China                    0.000000     22.822803   \nTokyo, Japan                      22.822803      0.000000   \nJohannesburg, South Africa        22.040519     23.566859   \nSao Paulo, Brazil                 21.559651     24.281156   \n\n                            Johannesburg, South Africa  Sao Paulo, Brazil  \nShanghai, China                              22.040519          21.559651  \nTokyo, Japan                                 23.566859          24.281156  \nJohannesburg, South Africa                    0.000000          21.715092  \nSao Paulo, Brazil                            21.715092           0.000000  "
                    }, 
                    "output_type": "execute_result"
                }
            ], 
            "source": "dist_matrix_3"
        }, 
        {
            "source": "We see now that S\u00e3o Paulo seems closer to Shanghai and Johannesburg, and Tokyo is the most different one.\nAlthough this seems to be an unintuitive change compared to the previous result, this may be caused by the feature scaling that now does not include Cologne and J\u00fclich.", 
            "cell_type": "markdown", 
            "metadata": {}
        }, 
        {
            "source": "## 6 - Conclusion <a name=\"Conclusion\"></a>", 
            "cell_type": "markdown", 
            "metadata": {}
        }, 
        {
            "source": "<!-- section where you conclude the report. -->\nIn this work, we have compared cities using K-Means clustering and Euclidian distances.\nThis was done using the categories of the venues in a city.\nWe have also defined the number of venues inside a given radius as a measure of the density of a city.\nThis allowed us to answer the question: can a large city be more like a small city that has similar venues than another big city with different venues?\nOur results showed that it can, and geographical and historical correlations may play a bigger role than the size of the city.\n\nWe have also compared cities in different corners of the world, to see how so contrasting cities would be compared by our algorithm.\nThe distances we obtained were, in fact, comparable to the ones for cities that are alike.\nThese results, however, are certainly not exact.\nOur list of features only took into account the list of venues in a city.\nA realistic result should also include the cost of living (such as average rental and price of food), language, density of streets, number of cars, and so on.\nNot only that, but our results may also be affected by the amount of venues retrieved from locations where Foursquare is not common.\nEven though the comparisons made by our algorithm can already provide important insights regarding the cities, the extension of the features and improvement of the data will certainly make them more realistic.\nAnother possible extension for this project is to implement other functionalities.\nThe Decision Tree method, for example, can refine the results by displaying where and how one city diverge from the other.\n\nFinally, apart from the numerical results obtained in this work, the functions defined here may also be used as examples and templates for future projects.", 
            "cell_type": "markdown", 
            "metadata": {}
        }
    ], 
    "metadata": {
        "kernelspec": {
            "display_name": "Python 3.6", 
            "name": "python3", 
            "language": "python"
        }, 
        "language_info": {
            "mimetype": "text/x-python", 
            "nbconvert_exporter": "python", 
            "version": "3.6.8", 
            "name": "python", 
            "file_extension": ".py", 
            "pygments_lexer": "ipython3", 
            "codemirror_mode": {
                "version": 3, 
                "name": "ipython"
            }
        }
    }, 
    "nbformat": 4
}