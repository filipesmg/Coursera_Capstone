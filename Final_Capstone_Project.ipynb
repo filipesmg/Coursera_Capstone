{
    "nbformat_minor": 1, 
    "cells": [
        {
            "source": "# Final Capstone Project", 
            "cell_type": "markdown", 
            "metadata": {
                "collapsed": true
            }
        }, 
        {
            "source": "### Abstract", 
            "cell_type": "markdown", 
            "metadata": {}
        }, 
        {
            "source": "_In this project, we will compare different cities in a given list.\nThe cities will be clustered using the k-means algorithm into different clusters.\nThe program is set to be general, so it may be used to aid in any decision making related to going to a new city.\nThe application created by this project helps any person going through this common procedure.\nEven though this project only gets information from the Foursquare API to categorize the different cities, it can easily be generalized to add new features in the future._", 
            "cell_type": "markdown", 
            "metadata": {}
        }, 
        {
            "source": "## 1 - Introduction ", 
            "cell_type": "markdown", 
            "metadata": {}
        }, 
        {
            "source": "<!-- where you discuss the business problem and who would be interested in this project. -->\nMany times someone needs to go to a city - either for a temporary visit or a permanent move -, a choice between different places is possible.\nHowever, this decision is not easy as it involves many factors: size of the city, available restaurants and recreational places, prices and many others not always related to the place itself.\nThese situations usually require a reasonable amount of research and analysis, and there are many available tools that can help in different phases of this process.\n<a href=\"https://www.wikipedia.com\">Wikipedia</a>, <a href=\"https://www.google.com/flights\">Google Flights</a>, <a href=\"https://www.booking.com\">Booking.com</a>, <a href=\"https://maps.google.com/\">Google Maps</a> and <a href=\"https://www.foursquare.com/\">Foursquare</a> are examples of instruments that are used to get familiar with a city, obtain forms and prices on how to get there, and the places available for staying and entertainment.\n\nIn all of these tools, the users need to analyze each option by themselves and then, after withdrawing weaker candidates or strengthening another one with the obtained information, make a verdict.\nOften, one still feels insecure about the choice made.\nIn this sense, a tool that automatically groups cities in a given list, returning useful information about each group certainly assist the procedure.\nSuch application can be used with unknown cities in an iterative way to reduce the possible alternatives, or also to include known cities as a reference.", 
            "cell_type": "markdown", 
            "metadata": {}
        }, 
        {
            "source": "## 2 - Data ", 
            "cell_type": "markdown", 
            "metadata": {}
        }, 
        {
            "source": "<!-- where you describe the data that will be used to solve the problem and the source of the data. -->\nTo compare the different cities, we will obtain an extensive list of venues using the Foursquare API.\nThe categories of the venues will be used to cluster the cities in different groups, and the final _character_ of the city will be printed out.\nThe total number of venues fetched from the API will also be used, and can be seen as a measure of the city size.\n\nOther types of data may be added later, to make the comparison more complete.", 
            "cell_type": "markdown", 
            "metadata": {}
        }, 
        {
            "source": "## 3 - Methodology ", 
            "cell_type": "markdown", 
            "metadata": {}
        }, 
        {
            "source": "<!-- which represents the main component of the report where you discuss and describe any exploratory data analysis that you did, any inferential statistical testing that you performed, if any, and what machine learnings were used and why. -->", 
            "cell_type": "markdown", 
            "metadata": {}
        }, 
        {
            "source": "## 4 - Results", 
            "cell_type": "markdown", 
            "metadata": {}
        }, 
        {
            "source": "<!-- where you discuss the results. -->", 
            "cell_type": "markdown", 
            "metadata": {}
        }, 
        {
            "source": "## 5 - Discussion ", 
            "cell_type": "markdown", 
            "metadata": {}
        }, 
        {
            "source": "<!-- where you discuss any observations you noted and any recommendations you can make based on the results. -->", 
            "cell_type": "markdown", 
            "metadata": {}
        }, 
        {
            "source": "## 6 - Conclusion ", 
            "cell_type": "markdown", 
            "metadata": {}
        }, 
        {
            "source": "<!-- section where you conclude the report. -->", 
            "cell_type": "markdown", 
            "metadata": {}
        }
    ], 
    "metadata": {
        "kernelspec": {
            "display_name": "Python 3.6", 
            "name": "python3", 
            "language": "python"
        }, 
        "language_info": {
            "mimetype": "text/x-python", 
            "nbconvert_exporter": "python", 
            "version": "3.6.8", 
            "name": "python", 
            "file_extension": ".py", 
            "pygments_lexer": "ipython3", 
            "codemirror_mode": {
                "version": 3, 
                "name": "ipython"
            }
        }
    }, 
    "nbformat": 4
}